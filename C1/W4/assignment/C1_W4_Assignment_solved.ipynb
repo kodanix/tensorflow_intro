{
 "cells": [
  {
   "cell_type": "markdown",
   "source": [
    "Below is code with a link to a happy or sad dataset which contains 80 images, 40 happy and 40 sad. \n",
    "Create a convolutional neural network that trains to 100% accuracy on these images,  which cancels training upon hitting training accuracy of >.999\n",
    "\n",
    "Hint -- it will work best with 3 convolutional layers."
   ],
   "metadata": {
    "colab_type": "text",
    "id": "UncprnB0ymAE"
   }
  },
  {
   "cell_type": "code",
   "execution_count": 73,
   "source": [
    "import tensorflow as tf\r\n",
    "import os\r\n",
    "import zipfile\r\n",
    "from os import path, getcwd, chdir\r\n",
    "\r\n",
    "# DO NOT CHANGE THE LINE BELOW. If you are developing in a local\r\n",
    "# environment, then grab happy-or-sad.zip from the Coursera Jupyter Notebook\r\n",
    "# and place it inside a local folder and edit the path to that location\r\n",
    "path = f\"{getcwd()}/../tmp2/happy-or-sad.zip\"\r\n",
    "\r\n",
    "zip_ref = zipfile.ZipFile(path, 'r')\r\n",
    "zip_ref.extractall(\"/tmp/h-or-s\")\r\n",
    "zip_ref.close()"
   ],
   "outputs": [],
   "metadata": {}
  },
  {
   "cell_type": "code",
   "execution_count": 74,
   "source": [
    "# GRADED FUNCTION: train_happy_sad_model\r\n",
    "def train_happy_sad_model():\r\n",
    "    # Please write your code only where you are indicated.\r\n",
    "    # please do not remove # model fitting inline comments.\r\n",
    "\r\n",
    "    DESIRED_ACCURACY = 0.999\r\n",
    "\r\n",
    "    class myCallback(tf.keras.callbacks.Callback):\r\n",
    "        # YOUR CODE START HERE\r\n",
    "        def on_epoch_end(self, epoch, logs={}):\r\n",
    "            if logs.get('acc') is not None and logs.get('acc') > DESIRED_ACCURACY:\r\n",
    "                print(\"\\nReached 99.9% accuracy so cancelling training!\")\r\n",
    "                self.model.stop_training = True\r\n",
    "         \r\n",
    "        \r\n",
    "        # YOUR CODE END HERE\r\n",
    "        \r\n",
    "    callbacks = myCallback()\r\n",
    "    \r\n",
    "    # This Code Block should Define and Compile the Model. Please assume the images are 150 X 150 in your implementation.\r\n",
    "    model = tf.keras.models.Sequential([\r\n",
    "    tf.keras.layers.Conv2D(16, (3,3), activation='relu', input_shape=(150, 150, 3)),\r\n",
    "    tf.keras.layers.MaxPooling2D(2, 2),\r\n",
    "    tf.keras.layers.Conv2D(32, (3,3), activation='relu'),\r\n",
    "    tf.keras.layers.MaxPooling2D(2,2),\r\n",
    "    tf.keras.layers.Conv2D(32, (3,3), activation='relu'),\r\n",
    "    tf.keras.layers.MaxPooling2D(2,2),\r\n",
    "    tf.keras.layers.Flatten(),\r\n",
    "    tf.keras.layers.Dense(512, activation='relu'),\r\n",
    "    tf.keras.layers.Dense(1, activation='sigmoid')\r\n",
    "    ])\r\n",
    "\r\n",
    "    from tensorflow.keras.optimizers import RMSprop\r\n",
    "\r\n",
    "    model.compile(loss='binary_crossentropy',\r\n",
    "                  optimizer=RMSprop(learning_rate=0.001),\r\n",
    "                  metrics=['accuracy'])\r\n",
    "    \r\n",
    "    # This code block should create an instance of an ImageDataGenerator called train_datagen \r\n",
    "    # And a train_generator by calling train_datagen.flow_from_directory\r\n",
    "\r\n",
    "    from tensorflow.keras.preprocessing.image import ImageDataGenerator\r\n",
    "\r\n",
    "    train_datagen = ImageDataGenerator(rescale=1/255)\r\n",
    "\r\n",
    "    # Please use a target_size of 150 X 150.\r\n",
    "    train_generator = train_datagen.flow_from_directory( \"/tmp/h-or-s\",\r\n",
    "                                                        target_size=(150, 150),\r\n",
    "                                                        batch_size=10,\r\n",
    "                                                        class_mode='binary')\r\n",
    "    # Expected output: 'Found 80 images belonging to 2 classes'\r\n",
    "\r\n",
    "    # This code block should call model.fit_generator and train for\r\n",
    "    # a number of epochs.\r\n",
    "    # model fitting\r\n",
    "    history = model.fit(train_generator,\r\n",
    "                        steps_per_epoch=8,\r\n",
    "                        epochs=15,\r\n",
    "                        verbose=1,\r\n",
    "                        callbacks=[callbacks]\r\n",
    "                       )\r\n",
    "    \r\n",
    "    return history.history['acc'][-1]"
   ],
   "outputs": [],
   "metadata": {}
  },
  {
   "cell_type": "code",
   "execution_count": 75,
   "source": [
    "# The Expected output: \"Reached 99.9% accuracy so cancelling training!\"\"\r\n",
    "train_happy_sad_model()"
   ],
   "outputs": [
    {
     "output_type": "stream",
     "name": "stdout",
     "text": [
      "Found 80 images belonging to 2 classes.\n",
      "Epoch 1/15\n",
      "8/8 [==============================] - 2s 283ms/step - loss: 0.9553 - acc: 0.5000\n",
      "Epoch 2/15\n",
      "8/8 [==============================] - 0s 49ms/step - loss: 0.3860 - acc: 0.9125\n",
      "Epoch 3/15\n",
      "8/8 [==============================] - 0s 39ms/step - loss: 0.1324 - acc: 0.9375\n",
      "Epoch 4/15\n",
      "8/8 [==============================] - 0s 48ms/step - loss: 0.0958 - acc: 0.9750\n",
      "Epoch 5/15\n",
      "8/8 [==============================] - 0s 38ms/step - loss: 0.1078 - acc: 0.9375\n",
      "Epoch 6/15\n",
      "6/8 [=====================>........] - ETA: 0s - loss: 0.0170 - acc: 1.0000\n",
      "Reached 99.9% accuracy so cancelling training!\n",
      "8/8 [==============================] - 0s 40ms/step - loss: 0.0176 - acc: 1.0000\n"
     ]
    },
    {
     "output_type": "execute_result",
     "data": {
      "text/plain": [
       "1.0"
      ]
     },
     "metadata": {},
     "execution_count": 75
    }
   ],
   "metadata": {}
  }
 ],
 "metadata": {
  "coursera": {
   "course_slug": "introduction-tensorflow",
   "graded_item_id": "1kAlw",
   "launcher_item_id": "PNLYD"
  },
  "kernelspec": {
   "display_name": "Python 3",
   "language": "python",
   "name": "python3"
  },
  "language_info": {
   "codemirror_mode": {
    "name": "ipython",
    "version": 3
   },
   "file_extension": ".py",
   "mimetype": "text/x-python",
   "name": "python",
   "nbconvert_exporter": "python",
   "pygments_lexer": "ipython3",
   "version": "3.6.8"
  }
 },
 "nbformat": 4,
 "nbformat_minor": 1
}