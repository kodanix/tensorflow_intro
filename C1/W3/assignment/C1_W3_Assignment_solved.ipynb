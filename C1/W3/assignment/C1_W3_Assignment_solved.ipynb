{
 "cells": [
  {
   "cell_type": "markdown",
   "source": [
    "## Exercise 3\n",
    "In the videos you looked at how you would improve Fashion MNIST using Convolutions. For your exercise see if you can improve MNIST to 99.8% accuracy or more using only a single convolutional layer and a single MaxPooling 2D. You should stop training once the accuracy goes above this amount. It should happen in less than 20 epochs, so it's ok to hard code the number of epochs for training, but your training must end once it hits the above metric. If it doesn't, then you'll need to redesign your layers.\n",
    "\n",
    "I've started the code for you -- you need to finish it!\n",
    "\n",
    "When 99.8% accuracy has been hit, you should print out the string \"Reached 99.8% accuracy so cancelling training!\"\n"
   ],
   "metadata": {
    "colab_type": "text",
    "id": "iQjHqsmTAVLU"
   }
  },
  {
   "cell_type": "code",
   "execution_count": 5,
   "source": [
    "import tensorflow as tf\r\n",
    "from os import path, getcwd, chdir\r\n",
    "\r\n",
    "# DO NOT CHANGE THE LINE BELOW. If you are developing in a local\r\n",
    "# environment, then grab mnist.npz from the Coursera Jupyter Notebook\r\n",
    "# and place it inside a local folder and edit the path to that location\r\n",
    "path = f\"{getcwd()}/../tmp2/mnist.npz\""
   ],
   "outputs": [],
   "metadata": {}
  },
  {
   "cell_type": "code",
   "execution_count": 6,
   "source": [
    "config = tf.ConfigProto()\r\n",
    "config.gpu_options.allow_growth = True\r\n",
    "sess = tf.Session(config=config)"
   ],
   "outputs": [],
   "metadata": {}
  },
  {
   "cell_type": "code",
   "execution_count": 7,
   "source": [
    "# GRADED FUNCTION: train_mnist_conv\r\n",
    "def train_mnist_conv():\r\n",
    "    # Please write your code only where you are indicated.\r\n",
    "    # please do not remove model fitting inline comments.\r\n",
    "\r\n",
    "    # YOUR CODE STARTS HERE\r\n",
    "    class myCallback(tf.keras.callbacks.Callback):\r\n",
    "        def on_epoch_end(self, epoch, logs={}):\r\n",
    "            if(logs.get('acc')>0.998):\r\n",
    "                print(\"\\nReached 99.8% accuracy so cancelling training!\")\r\n",
    "                self.model.stop_training = True\r\n",
    "    # YOUR CODE ENDS HERE\r\n",
    "\r\n",
    "    mnist = tf.keras.datasets.mnist\r\n",
    "    (training_images, training_labels), (test_images, test_labels) = mnist.load_data(path=path)\r\n",
    "    # YOUR CODE STARTS HERE\r\n",
    "    callbacks = myCallback()\r\n",
    "    training_images=training_images.reshape(60000,28,28,1)\r\n",
    "    training_images=training_images/255.0\r\n",
    "    test_images = test_images.reshape(10000,28,28,1)\r\n",
    "    test_images = test_images/255.0\r\n",
    "    # YOUR CODE ENDS HERE\r\n",
    "\r\n",
    "    model = tf.keras.models.Sequential([\r\n",
    "            # YOUR CODE STARTS HERE\r\n",
    "              tf.keras.layers.Conv2D(32, (3,3), activation='relu', input_shape=(28, 28, 1)),\r\n",
    "              tf.keras.layers.MaxPooling2D(2, 2),\r\n",
    "              tf.keras.layers.Flatten(),\r\n",
    "              tf.keras.layers.Dense(128, activation='relu'),\r\n",
    "              tf.keras.layers.Dense(10, activation='softmax')\r\n",
    "            # YOUR CODE ENDS HERE\r\n",
    "    ])\r\n",
    "\r\n",
    "    model.compile(optimizer='adam', loss='sparse_categorical_crossentropy', metrics=['accuracy'])\r\n",
    "    # model fitting\r\n",
    "    history = model.fit(\r\n",
    "        # YOUR CODE STARTS HERE\r\n",
    "        training_images, training_labels, epochs=20, callbacks=[callbacks]\r\n",
    "        # YOUR CODE ENDS HERE\r\n",
    "    )\r\n",
    "    # model fitting\r\n",
    "    return history.epoch, history.history['acc'][-1]\r\n",
    "\r\n"
   ],
   "outputs": [],
   "metadata": {}
  },
  {
   "cell_type": "code",
   "execution_count": 8,
   "source": [
    "_, _ = train_mnist_conv()"
   ],
   "outputs": [
    {
     "output_type": "stream",
     "name": "stdout",
     "text": [
      "Epoch 1/20\n",
      "60000/60000 [==============================] - 11s 189us/sample - loss: 0.1482 - acc: 0.9563\n",
      "Epoch 2/20\n",
      "60000/60000 [==============================] - 11s 189us/sample - loss: 0.0509 - acc: 0.9845 - loss: 0.0505 - acc: 0.\n",
      "Epoch 3/20\n",
      "60000/60000 [==============================] - 11s 188us/sample - loss: 0.0323 - acc: 0.9899\n",
      "Epoch 4/20\n",
      "60000/60000 [==============================] - 12s 193us/sample - loss: 0.0210 - acc: 0.9930\n",
      "Epoch 5/20\n",
      "60000/60000 [==============================] - 12s 193us/sample - loss: 0.0135 - acc: 0.9957\n",
      "Epoch 6/20\n",
      "60000/60000 [==============================] - 12s 197us/sample - loss: 0.0098 - acc: 0.9968\n",
      "Epoch 7/20\n",
      "60000/60000 [==============================] - 12s 195us/sample - loss: 0.0078 - acc: 0.9975\n",
      "Epoch 8/20\n",
      "59840/60000 [============================>.] - ETA: 0s - loss: 0.0058 - acc: 0.9981\n",
      "Reached 99.8% accuracy so cancelling training!\n",
      "60000/60000 [==============================] - 11s 190us/sample - loss: 0.0059 - acc: 0.9980\n"
     ]
    }
   ],
   "metadata": {}
  }
 ],
 "metadata": {
  "coursera": {
   "course_slug": "introduction-tensorflow",
   "graded_item_id": "ml06H",
   "launcher_item_id": "hQF8A"
  },
  "kernelspec": {
   "display_name": "Python 3",
   "language": "python",
   "name": "python3"
  },
  "language_info": {
   "codemirror_mode": {
    "name": "ipython",
    "version": 3
   },
   "file_extension": ".py",
   "mimetype": "text/x-python",
   "name": "python",
   "nbconvert_exporter": "python",
   "pygments_lexer": "ipython3",
   "version": "3.6.8"
  }
 },
 "nbformat": 4,
 "nbformat_minor": 1
}