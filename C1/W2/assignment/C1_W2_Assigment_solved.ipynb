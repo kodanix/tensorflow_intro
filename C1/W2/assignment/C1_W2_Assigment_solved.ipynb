{
 "cells": [
  {
   "cell_type": "markdown",
   "source": [
    "## Exercise 2\n",
    "In the course you learned how to do classificaiton using Fashion MNIST, a data set containing items of clothing. There's another, similar dataset called MNIST which has items of handwriting -- the digits 0 through 9.\n",
    "\n",
    "Write an MNIST classifier that trains to 99% accuracy or above, and does it without a fixed number of epochs -- i.e. you should stop training once you reach that level of accuracy.\n",
    "\n",
    "Some notes:\n",
    "1. It should succeed in less than 10 epochs, so it is okay to change epochs= to 10, but nothing larger\n",
    "2. When it reaches 99% or greater it should print out the string \"Reached 99% accuracy so cancelling training!\"\n",
    "3. If you add any additional variables, make sure you use the same names as the ones used in the class\n",
    "\n",
    "I've started the code for you below -- how would you finish it? "
   ],
   "metadata": {
    "colab_type": "text",
    "id": "tOoyQ70H00_s"
   }
  },
  {
   "cell_type": "code",
   "execution_count": 1,
   "source": [
    "import tensorflow as tf\r\n",
    "from os import path, getcwd, chdir\r\n",
    "\r\n",
    "# DO NOT CHANGE THE LINE BELOW. If you are developing in a local\r\n",
    "# environment, then grab mnist.npz from the Coursera Jupyter Notebook\r\n",
    "# and place it inside a local folder and edit the path to that location\r\n",
    "path = f\"{getcwd()}/../tmp2/mnist.npz\""
   ],
   "outputs": [],
   "metadata": {}
  },
  {
   "cell_type": "code",
   "execution_count": 12,
   "source": [
    "# GRADED FUNCTION: train_mnist\r\n",
    "def train_mnist():\r\n",
    "    # Please write your code only where you are indicated.\r\n",
    "    # please do not remove # model fitting inline comments.\r\n",
    "\r\n",
    "    # YOUR CODE SHOULD START HERE\r\n",
    "    class myCallback(tf.keras.callbacks.Callback):\r\n",
    "        def on_epoch_end(self, epoch, logs={}):\r\n",
    "            if(logs.get('acc')>0.99):\r\n",
    "                print(\"\\nReached 99% accuracy so cancelling training!\")\r\n",
    "                self.model.stop_training = True\r\n",
    "    # YOUR CODE SHOULD END HERE\r\n",
    "\r\n",
    "    mnist = tf.keras.datasets.mnist\r\n",
    "\r\n",
    "    (x_train, y_train),(x_test, y_test) = mnist.load_data(path=path)\r\n",
    "    # YOUR CODE SHOULD START HERE\r\n",
    "    callbacks = myCallback()\r\n",
    "    x_train, x_test = x_train / 255.0, x_test/255.0\r\n",
    "    # YOUR CODE SHOULD END HERE\r\n",
    "    model = tf.keras.models.Sequential([\r\n",
    "        # YOUR CODE SHOULD START HERE\r\n",
    "        tf.keras.layers.Flatten(input_shape=(28,28)),\r\n",
    "        tf.keras.layers.Dense(512, activation=tf.nn.relu),\r\n",
    "        tf.keras.layers.Dense(10, activation=tf.nn.softmax)\r\n",
    "        # YOUR CODE SHOULD END HERE\r\n",
    "    ])\r\n",
    "\r\n",
    "    model.compile(optimizer='adam',\r\n",
    "                  loss='sparse_categorical_crossentropy',\r\n",
    "                  metrics=['accuracy'])\r\n",
    "    \r\n",
    "    # model fitting\r\n",
    "    history = model.fit(x_train, y_train, epochs=10, callbacks=[callbacks]\r\n",
    "    )\r\n",
    "    # model fitting\r\n",
    "    return history.epoch, history.history['acc'][-1]"
   ],
   "outputs": [],
   "metadata": {
    "colab": {},
    "colab_type": "code",
    "id": "9rvXQGAA0ssC"
   }
  },
  {
   "cell_type": "code",
   "execution_count": 13,
   "source": [
    "train_mnist()"
   ],
   "outputs": [
    {
     "output_type": "stream",
     "name": "stdout",
     "text": [
      "Epoch 1/10\n",
      "60000/60000 [==============================] - 10s 159us/sample - loss: 0.2017 - acc: 0.9406\n",
      "Epoch 2/10\n",
      "60000/60000 [==============================] - 9s 153us/sample - loss: 0.0789 - acc: 0.9752\n",
      "Epoch 3/10\n",
      "60000/60000 [==============================] - 8s 137us/sample - loss: 0.0516 - acc: 0.9840\n",
      "Epoch 4/10\n",
      "60000/60000 [==============================] - 8s 138us/sample - loss: 0.0352 - acc: 0.9885\n",
      "Epoch 5/10\n",
      "59328/60000 [============================>.] - ETA: 0s - loss: 0.0266 - acc: 0.9911\n",
      "Reached 99% accuracy so cancelling training!\n",
      "60000/60000 [==============================] - 9s 142us/sample - loss: 0.0267 - acc: 0.9911\n"
     ]
    },
    {
     "output_type": "execute_result",
     "data": {
      "text/plain": [
       "([0, 1, 2, 3, 4], 0.9910667)"
      ]
     },
     "metadata": {},
     "execution_count": 13
    }
   ],
   "metadata": {
    "colab": {},
    "colab_type": "code",
    "id": "9rvXQGAA0ssC"
   }
  }
 ],
 "metadata": {
  "coursera": {
   "course_slug": "introduction-tensorflow",
   "graded_item_id": "d6dew",
   "launcher_item_id": "FExZ4"
  },
  "kernelspec": {
   "display_name": "Python 3",
   "language": "python",
   "name": "python3"
  },
  "language_info": {
   "codemirror_mode": {
    "name": "ipython",
    "version": 3
   },
   "file_extension": ".py",
   "mimetype": "text/x-python",
   "name": "python",
   "nbconvert_exporter": "python",
   "pygments_lexer": "ipython3",
   "version": "3.6.8"
  }
 },
 "nbformat": 4,
 "nbformat_minor": 1
}